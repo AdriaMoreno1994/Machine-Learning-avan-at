{
 "cells": [
  {
   "cell_type": "markdown",
   "metadata": {},
   "source": [
    "# S16 T02: Tasca de web scraping"
   ]
  },
  {
   "cell_type": "markdown",
   "metadata": {},
   "source": [
    "## Nivell 1\n",
    "### Exercici 1\n",
    "Realitza web scraping d'una pàgina de la borsa de Madrid (https://www.bolsamadrid.es) utilitzant BeautifulSoup i Selenium.\n",
    "\n"
   ]
  },
  {
   "cell_type": "code",
   "execution_count": 17,
   "metadata": {},
   "outputs": [],
   "source": [
    "import pandas as pd\n",
    "import numpy as np \n",
    "import selenium\n",
    "import requests\n",
    "from bs4 import BeautifulSoup\n",
    "import re\n",
    "from IPython.display import Image\n",
    "from collections import defaultdict\n",
    "from selenium.webdriver import Chrome \n",
    "from selenium.webdriver.chrome.options import Options\n",
    "from selenium.webdriver.support.ui import WebDriverWait\n",
    "from selenium.webdriver.support import expected_conditions as EC\n",
    "from selenium.webdriver.common.by import By\n",
    "import matplotlib.pyplot as plt\n",
    "import seaborn as sns\n",
    "import scrapy\n",
    "\n",
    "\n",
    "\n",
    "\n"
   ]
  },
  {
   "cell_type": "markdown",
   "metadata": {},
   "source": [
    "**Beautiful soup**\n"
   ]
  },
  {
   "cell_type": "markdown",
   "metadata": {},
   "source": [
    "EL procediment a seguir  serà: \n",
    "- fer una request a la url base\n",
    "- parsejar el contingut amb beautifulsoup  a la variable soup\n",
    "- amb la funció find_ buscare  tots els links que tinguin  el tag a\n",
    "- concateno la url base amb la especifica\n",
    "- faig una nova request amb la nova url i faig el mateix procediment exepte que ara buscare la variable table que tingui l'atribut TblPort \n",
    "- iterare sobre  la cerca on contindrà el llistat d'empreses. Per una banda itero en busca  dels labels apartir del tag th i per altre,  itero en per on hi hagui el tag td que es on esta la informació \n",
    "- finalment transformo la data a un dataframe  i la guardo a un csv\n",
    "\n",
    "    "
   ]
  },
  {
   "cell_type": "code",
   "execution_count": 18,
   "metadata": {},
   "outputs": [],
   "source": [
    "URL = \"https://www.bolsamadrid.es\"\n",
    "page = requests.get(URL)"
   ]
  },
  {
   "cell_type": "code",
   "execution_count": 19,
   "metadata": {},
   "outputs": [],
   "source": [
    "soup = BeautifulSoup(page.content, \"html.parser\")"
   ]
  },
  {
   "cell_type": "code",
   "execution_count": 20,
   "metadata": {},
   "outputs": [],
   "source": [
    "\n",
    "for link in soup.find_all(\"a\",string='Lista de Empresas'):\n",
    "    link=link.get('href')"
   ]
  },
  {
   "cell_type": "code",
   "execution_count": 21,
   "metadata": {},
   "outputs": [
    {
     "data": {
      "text/plain": [
       "'/esp/aspx/Empresas/Empresas.aspx'"
      ]
     },
     "execution_count": 21,
     "metadata": {},
     "output_type": "execute_result"
    }
   ],
   "source": [
    "link"
   ]
  },
  {
   "cell_type": "code",
   "execution_count": 22,
   "metadata": {},
   "outputs": [],
   "source": [
    "new_url=URL+link\n"
   ]
  },
  {
   "cell_type": "code",
   "execution_count": 23,
   "metadata": {},
   "outputs": [
    {
     "data": {
      "text/plain": [
       "'https://www.bolsamadrid.es/esp/aspx/Empresas/Empresas.aspx'"
      ]
     },
     "execution_count": 23,
     "metadata": {},
     "output_type": "execute_result"
    }
   ],
   "source": [
    "new_url"
   ]
  },
  {
   "cell_type": "code",
   "execution_count": 24,
   "metadata": {},
   "outputs": [],
   "source": [
    "empresas= requests.get(new_url)"
   ]
  },
  {
   "cell_type": "code",
   "execution_count": 25,
   "metadata": {},
   "outputs": [],
   "source": [
    "soup_empresas = BeautifulSoup(empresas.content,\"html.parser\")"
   ]
  },
  {
   "cell_type": "code",
   "execution_count": 26,
   "metadata": {},
   "outputs": [],
   "source": [
    "taula = soup_empresas.find('table',attrs={'class':'TblPort'})"
   ]
  },
  {
   "cell_type": "code",
   "execution_count": 27,
   "metadata": {},
   "outputs": [
    {
     "name": "stdout",
     "output_type": "stream",
     "text": [
      "['Nombre', 'Sector - Subsector', 'Mercado', 'Índices']\n"
     ]
    }
   ],
   "source": [
    "labels=[]\n",
    "\n",
    "for element in taula.find_all(\"th\"):    \n",
    "    labels.append(element.get_text())\n",
    "    \n",
    "print(labels)\n",
    "    "
   ]
  },
  {
   "cell_type": "code",
   "execution_count": 28,
   "metadata": {},
   "outputs": [],
   "source": [
    "results = []\n",
    "for element in taula.find_all(\"td\"):\n",
    "    results.append(element.text)\n"
   ]
  },
  {
   "cell_type": "code",
   "execution_count": 29,
   "metadata": {},
   "outputs": [],
   "source": [
    "data={}\n",
    "for i in range(4):\n",
    "    data[labels[i]]=results[i::4]"
   ]
  },
  {
   "cell_type": "code",
   "execution_count": 30,
   "metadata": {},
   "outputs": [],
   "source": [
    "df = pd.DataFrame(data)"
   ]
  },
  {
   "cell_type": "code",
   "execution_count": 31,
   "metadata": {},
   "outputs": [
    {
     "data": {
      "text/html": [
       "<div>\n",
       "<style scoped>\n",
       "    .dataframe tbody tr th:only-of-type {\n",
       "        vertical-align: middle;\n",
       "    }\n",
       "\n",
       "    .dataframe tbody tr th {\n",
       "        vertical-align: top;\n",
       "    }\n",
       "\n",
       "    .dataframe thead th {\n",
       "        text-align: right;\n",
       "    }\n",
       "</style>\n",
       "<table border=\"1\" class=\"dataframe\">\n",
       "  <thead>\n",
       "    <tr style=\"text-align: right;\">\n",
       "      <th></th>\n",
       "      <th>Nombre</th>\n",
       "      <th>Sector - Subsector</th>\n",
       "      <th>Mercado</th>\n",
       "      <th>Índices</th>\n",
       "    </tr>\n",
       "  </thead>\n",
       "  <tbody>\n",
       "    <tr>\n",
       "      <th>0</th>\n",
       "      <td>ABENGOA, S.A.</td>\n",
       "      <td>Mat.Basicos, Industria y Construcción - Ingeni...</td>\n",
       "      <td>Mercado Continuo</td>\n",
       "      <td></td>\n",
       "    </tr>\n",
       "    <tr>\n",
       "      <th>1</th>\n",
       "      <td>ACCIONA,S.A.</td>\n",
       "      <td>Mat.Basicos, Industria y Construcción - Constr...</td>\n",
       "      <td>Mercado Continuo</td>\n",
       "      <td>IBEX 35®</td>\n",
       "    </tr>\n",
       "    <tr>\n",
       "      <th>2</th>\n",
       "      <td>ACERINOX, S.A.</td>\n",
       "      <td>Mat.Basicos, Industria y Construcción - Minera...</td>\n",
       "      <td>Mercado Continuo</td>\n",
       "      <td>IBEX 35®, IBEX TOP Dividendo®</td>\n",
       "    </tr>\n",
       "    <tr>\n",
       "      <th>3</th>\n",
       "      <td>ACS,ACTIVIDADES DE CONST.Y SERVICIOS S.A</td>\n",
       "      <td>Mat.Basicos, Industria y Construcción - Constr...</td>\n",
       "      <td>Mercado Continuo</td>\n",
       "      <td>IBEX 35®, IBEX TOP Dividendo®</td>\n",
       "    </tr>\n",
       "    <tr>\n",
       "      <th>4</th>\n",
       "      <td>ADOLFO DOMINGUEZ, S.A.</td>\n",
       "      <td>Bienes de Consumo - Textil, Vestido y Calzado</td>\n",
       "      <td>Mercado Continuo</td>\n",
       "      <td></td>\n",
       "    </tr>\n",
       "    <tr>\n",
       "      <th>5</th>\n",
       "      <td>AEDAS HOMES, S.A.</td>\n",
       "      <td>Servicios Inmobiliarios - Inmobiliarias y Otros</td>\n",
       "      <td>Mercado Continuo</td>\n",
       "      <td></td>\n",
       "    </tr>\n",
       "    <tr>\n",
       "      <th>6</th>\n",
       "      <td>AENA, S.M.E., S.A.</td>\n",
       "      <td>Servicios de Consumo - Transporte y Distribución</td>\n",
       "      <td>Mercado Continuo</td>\n",
       "      <td>IBEX 35®</td>\n",
       "    </tr>\n",
       "    <tr>\n",
       "      <th>7</th>\n",
       "      <td>AIRBUS SE</td>\n",
       "      <td>Mat.Basicos, Industria y Construcción - Aerosp...</td>\n",
       "      <td>Mercado Continuo</td>\n",
       "      <td></td>\n",
       "    </tr>\n",
       "    <tr>\n",
       "      <th>8</th>\n",
       "      <td>AIRTIFICIAL INTELLIGENCE STRUCTURES S.A.</td>\n",
       "      <td>Mat.Basicos, Industria y Construcción - Ingeni...</td>\n",
       "      <td>Mercado Continuo</td>\n",
       "      <td></td>\n",
       "    </tr>\n",
       "    <tr>\n",
       "      <th>9</th>\n",
       "      <td>ALANTRA PARTNERS, S.A.</td>\n",
       "      <td>Servicios Financieros - Cartera y Holding</td>\n",
       "      <td>Mercado Continuo</td>\n",
       "      <td></td>\n",
       "    </tr>\n",
       "    <tr>\n",
       "      <th>10</th>\n",
       "      <td>ALFA, S.A.B. DE C.V.</td>\n",
       "      <td>Servicios Financieros - Cartera y Holding</td>\n",
       "      <td>Latibex</td>\n",
       "      <td>FTSE Latibex TOP, FTSE Latibex All Share</td>\n",
       "    </tr>\n",
       "    <tr>\n",
       "      <th>11</th>\n",
       "      <td>ALMIRALL, S.A.</td>\n",
       "      <td>Bienes de Consumo - Productos farmaceúticos y ...</td>\n",
       "      <td>Mercado Continuo</td>\n",
       "      <td>IBEX 35®</td>\n",
       "    </tr>\n",
       "    <tr>\n",
       "      <th>12</th>\n",
       "      <td>AMADEUS IT GROUP, S.A.</td>\n",
       "      <td>Tecnología y Telecomunicaciones - Electrónica ...</td>\n",
       "      <td>Mercado Continuo</td>\n",
       "      <td>IBEX 35®</td>\n",
       "    </tr>\n",
       "    <tr>\n",
       "      <th>13</th>\n",
       "      <td>AMERICA MOVIL S,A,B,</td>\n",
       "      <td>Tecnología y Telecomunicaciones - Telecomunica...</td>\n",
       "      <td>Latibex</td>\n",
       "      <td>FTSE Latibex TOP, FTSE Latibex All Share</td>\n",
       "    </tr>\n",
       "    <tr>\n",
       "      <th>14</th>\n",
       "      <td>AMPER, S.A.</td>\n",
       "      <td>Tecnología y Telecomunicaciones - Electrónica ...</td>\n",
       "      <td>Mercado Continuo</td>\n",
       "      <td></td>\n",
       "    </tr>\n",
       "    <tr>\n",
       "      <th>15</th>\n",
       "      <td>AMREST HOLDINGS, S.E.</td>\n",
       "      <td>Servicios de Consumo - Ocio, Turismo y Hostelería</td>\n",
       "      <td>Mercado Continuo</td>\n",
       "      <td></td>\n",
       "    </tr>\n",
       "    <tr>\n",
       "      <th>16</th>\n",
       "      <td>APERAM, SOCIETE ANONYME</td>\n",
       "      <td>Mat.Basicos, Industria y Construcción - Minera...</td>\n",
       "      <td>Mercado Continuo</td>\n",
       "      <td></td>\n",
       "    </tr>\n",
       "    <tr>\n",
       "      <th>17</th>\n",
       "      <td>APPLUS SERVICES, S.A.</td>\n",
       "      <td>Mat.Basicos, Industria y Construcción - Ingeni...</td>\n",
       "      <td>Mercado Continuo</td>\n",
       "      <td></td>\n",
       "    </tr>\n",
       "    <tr>\n",
       "      <th>18</th>\n",
       "      <td>ARCELORMITTAL, S.A.</td>\n",
       "      <td>Mat.Basicos, Industria y Construcción - Minera...</td>\n",
       "      <td>Mercado Continuo</td>\n",
       "      <td>IBEX 35®</td>\n",
       "    </tr>\n",
       "    <tr>\n",
       "      <th>19</th>\n",
       "      <td>ARIMA REAL ESTATE SOCIMI, S.A.</td>\n",
       "      <td>Servicios Inmobiliarios - SOCIMI</td>\n",
       "      <td>Mercado Continuo</td>\n",
       "      <td></td>\n",
       "    </tr>\n",
       "    <tr>\n",
       "      <th>20</th>\n",
       "      <td>ATRESMEDIA CORP. DE MEDIOS DE COM. S.A.</td>\n",
       "      <td>Servicios de Consumo - Medios de Comunicación ...</td>\n",
       "      <td>Mercado Continuo</td>\n",
       "      <td></td>\n",
       "    </tr>\n",
       "    <tr>\n",
       "      <th>21</th>\n",
       "      <td>AUDAX RENOVABLES, S.A.</td>\n",
       "      <td>Petróleo y Energía - Energías Renovables</td>\n",
       "      <td>Mercado Continuo</td>\n",
       "      <td></td>\n",
       "    </tr>\n",
       "    <tr>\n",
       "      <th>22</th>\n",
       "      <td>AYCO GRUPO INMOBILIARIO, S.A.</td>\n",
       "      <td>Servicios Inmobiliarios - Inmobiliarias y Otros</td>\n",
       "      <td>Parqué</td>\n",
       "      <td></td>\n",
       "    </tr>\n",
       "    <tr>\n",
       "      <th>23</th>\n",
       "      <td>AZKOYEN S.A.</td>\n",
       "      <td>Mat.Basicos, Industria y Construcción - Fabric...</td>\n",
       "      <td>Mercado Continuo</td>\n",
       "      <td></td>\n",
       "    </tr>\n",
       "    <tr>\n",
       "      <th>24</th>\n",
       "      <td>BANCO BBVA ARGENTINA, S.A.</td>\n",
       "      <td>Servicios Financieros - Bancos y Cajas de Ahorro</td>\n",
       "      <td>Latibex</td>\n",
       "      <td>FTSE Latibex All Share</td>\n",
       "    </tr>\n",
       "  </tbody>\n",
       "</table>\n",
       "</div>"
      ],
      "text/plain": [
       "                                      Nombre  \\\n",
       "0                              ABENGOA, S.A.   \n",
       "1                               ACCIONA,S.A.   \n",
       "2                             ACERINOX, S.A.   \n",
       "3   ACS,ACTIVIDADES DE CONST.Y SERVICIOS S.A   \n",
       "4                     ADOLFO DOMINGUEZ, S.A.   \n",
       "5                          AEDAS HOMES, S.A.   \n",
       "6                         AENA, S.M.E., S.A.   \n",
       "7                                  AIRBUS SE   \n",
       "8   AIRTIFICIAL INTELLIGENCE STRUCTURES S.A.   \n",
       "9                     ALANTRA PARTNERS, S.A.   \n",
       "10                      ALFA, S.A.B. DE C.V.   \n",
       "11                            ALMIRALL, S.A.   \n",
       "12                    AMADEUS IT GROUP, S.A.   \n",
       "13                      AMERICA MOVIL S,A,B,   \n",
       "14                               AMPER, S.A.   \n",
       "15                     AMREST HOLDINGS, S.E.   \n",
       "16                   APERAM, SOCIETE ANONYME   \n",
       "17                     APPLUS SERVICES, S.A.   \n",
       "18                       ARCELORMITTAL, S.A.   \n",
       "19            ARIMA REAL ESTATE SOCIMI, S.A.   \n",
       "20   ATRESMEDIA CORP. DE MEDIOS DE COM. S.A.   \n",
       "21                    AUDAX RENOVABLES, S.A.   \n",
       "22             AYCO GRUPO INMOBILIARIO, S.A.   \n",
       "23                              AZKOYEN S.A.   \n",
       "24                BANCO BBVA ARGENTINA, S.A.   \n",
       "\n",
       "                                   Sector - Subsector           Mercado  \\\n",
       "0   Mat.Basicos, Industria y Construcción - Ingeni...  Mercado Continuo   \n",
       "1   Mat.Basicos, Industria y Construcción - Constr...  Mercado Continuo   \n",
       "2   Mat.Basicos, Industria y Construcción - Minera...  Mercado Continuo   \n",
       "3   Mat.Basicos, Industria y Construcción - Constr...  Mercado Continuo   \n",
       "4       Bienes de Consumo - Textil, Vestido y Calzado  Mercado Continuo   \n",
       "5     Servicios Inmobiliarios - Inmobiliarias y Otros  Mercado Continuo   \n",
       "6    Servicios de Consumo - Transporte y Distribución  Mercado Continuo   \n",
       "7   Mat.Basicos, Industria y Construcción - Aerosp...  Mercado Continuo   \n",
       "8   Mat.Basicos, Industria y Construcción - Ingeni...  Mercado Continuo   \n",
       "9           Servicios Financieros - Cartera y Holding  Mercado Continuo   \n",
       "10          Servicios Financieros - Cartera y Holding           Latibex   \n",
       "11  Bienes de Consumo - Productos farmaceúticos y ...  Mercado Continuo   \n",
       "12  Tecnología y Telecomunicaciones - Electrónica ...  Mercado Continuo   \n",
       "13  Tecnología y Telecomunicaciones - Telecomunica...           Latibex   \n",
       "14  Tecnología y Telecomunicaciones - Electrónica ...  Mercado Continuo   \n",
       "15  Servicios de Consumo - Ocio, Turismo y Hostelería  Mercado Continuo   \n",
       "16  Mat.Basicos, Industria y Construcción - Minera...  Mercado Continuo   \n",
       "17  Mat.Basicos, Industria y Construcción - Ingeni...  Mercado Continuo   \n",
       "18  Mat.Basicos, Industria y Construcción - Minera...  Mercado Continuo   \n",
       "19                   Servicios Inmobiliarios - SOCIMI  Mercado Continuo   \n",
       "20  Servicios de Consumo - Medios de Comunicación ...  Mercado Continuo   \n",
       "21           Petróleo y Energía - Energías Renovables  Mercado Continuo   \n",
       "22    Servicios Inmobiliarios - Inmobiliarias y Otros            Parqué   \n",
       "23  Mat.Basicos, Industria y Construcción - Fabric...  Mercado Continuo   \n",
       "24   Servicios Financieros - Bancos y Cajas de Ahorro           Latibex   \n",
       "\n",
       "                                     Índices  \n",
       "0                                             \n",
       "1                                   IBEX 35®  \n",
       "2              IBEX 35®, IBEX TOP Dividendo®  \n",
       "3              IBEX 35®, IBEX TOP Dividendo®  \n",
       "4                                             \n",
       "5                                             \n",
       "6                                   IBEX 35®  \n",
       "7                                             \n",
       "8                                             \n",
       "9                                             \n",
       "10  FTSE Latibex TOP, FTSE Latibex All Share  \n",
       "11                                  IBEX 35®  \n",
       "12                                  IBEX 35®  \n",
       "13  FTSE Latibex TOP, FTSE Latibex All Share  \n",
       "14                                            \n",
       "15                                            \n",
       "16                                            \n",
       "17                                            \n",
       "18                                  IBEX 35®  \n",
       "19                                            \n",
       "20                                            \n",
       "21                                            \n",
       "22                                            \n",
       "23                                            \n",
       "24                    FTSE Latibex All Share  "
      ]
     },
     "execution_count": 31,
     "metadata": {},
     "output_type": "execute_result"
    }
   ],
   "source": [
    "df"
   ]
  },
  {
   "cell_type": "code",
   "execution_count": 32,
   "metadata": {},
   "outputs": [],
   "source": [
    "df.to_csv('Lista_Empresas_pag1.csv')"
   ]
  },
  {
   "cell_type": "markdown",
   "metadata": {},
   "source": [
    "***Selenium***\n",
    "-faig gairebé el mateix procediment  pero aplicant-lo a un resum d'index bursatils"
   ]
  },
  {
   "cell_type": "code",
   "execution_count": 5,
   "metadata": {},
   "outputs": [],
   "source": [
    "driver = Chrome(executable_path=\"C:\\\\Users\\\\adria\\\\chromedriver.exe\")"
   ]
  },
  {
   "cell_type": "code",
   "execution_count": 6,
   "metadata": {},
   "outputs": [],
   "source": [
    "driver.get(URL)"
   ]
  },
  {
   "cell_type": "code",
   "execution_count": 7,
   "metadata": {},
   "outputs": [],
   "source": [
    "link= driver.find_element_by_link_text('ÍNDICES')"
   ]
  },
  {
   "cell_type": "code",
   "execution_count": 8,
   "metadata": {},
   "outputs": [],
   "source": [
    "link.click()"
   ]
  },
  {
   "cell_type": "code",
   "execution_count": 9,
   "metadata": {},
   "outputs": [],
   "source": [
    "link= driver.find_element_by_link_text('Resumen de Índices')\n",
    "link.click()\n",
    "taula = driver.find_element_by_id('ctl00_Contenido_tblÍndices')\n"
   ]
  },
  {
   "cell_type": "code",
   "execution_count": 10,
   "metadata": {},
   "outputs": [],
   "source": [
    "labels=[]\n",
    "for element in taula.find_elements_by_tag_name(\"th\"):\n",
    "    labels.append(element.text) "
   ]
  },
  {
   "cell_type": "code",
   "execution_count": 11,
   "metadata": {},
   "outputs": [],
   "source": [
    "results=[]\n",
    "for element in taula.find_elements_by_tag_name(\"td\"):\n",
    "    results.append(element.text)\n",
    "       "
   ]
  },
  {
   "cell_type": "code",
   "execution_count": 12,
   "metadata": {},
   "outputs": [],
   "source": [
    "data = {}\n",
    "for i in range(9):\n",
    "    data[labels[i]]=results[i::9]\n",
    "df2 = pd.DataFrame(data)"
   ]
  },
  {
   "cell_type": "code",
   "execution_count": 13,
   "metadata": {},
   "outputs": [
    {
     "data": {
      "text/html": [
       "<div>\n",
       "<style scoped>\n",
       "    .dataframe tbody tr th:only-of-type {\n",
       "        vertical-align: middle;\n",
       "    }\n",
       "\n",
       "    .dataframe tbody tr th {\n",
       "        vertical-align: top;\n",
       "    }\n",
       "\n",
       "    .dataframe thead th {\n",
       "        text-align: right;\n",
       "    }\n",
       "</style>\n",
       "<table border=\"1\" class=\"dataframe\">\n",
       "  <thead>\n",
       "    <tr style=\"text-align: right;\">\n",
       "      <th></th>\n",
       "      <th>Nombre</th>\n",
       "      <th>Anterior</th>\n",
       "      <th>Último</th>\n",
       "      <th>% Dif.</th>\n",
       "      <th>Máximo</th>\n",
       "      <th>Mínimo</th>\n",
       "      <th>Fecha</th>\n",
       "      <th>Hora</th>\n",
       "      <th>% Dif.\\nAño 2021</th>\n",
       "    </tr>\n",
       "  </thead>\n",
       "  <tbody>\n",
       "    <tr>\n",
       "      <th>0</th>\n",
       "      <td>IBEX 35®</td>\n",
       "      <td>8.796,30</td>\n",
       "      <td>8.706,70</td>\n",
       "      <td>-1,02</td>\n",
       "      <td>8.709,10</td>\n",
       "      <td>8.654,80</td>\n",
       "      <td>01/10/2021</td>\n",
       "      <td>09:30:24</td>\n",
       "      <td>7,84</td>\n",
       "    </tr>\n",
       "    <tr>\n",
       "      <th>1</th>\n",
       "      <td>IBEX 35® con Dividendos</td>\n",
       "      <td>26.951,50</td>\n",
       "      <td>26.677,20</td>\n",
       "      <td>-1,02</td>\n",
       "      <td>26.684,50</td>\n",
       "      <td>26.518,10</td>\n",
       "      <td>01/10/2021</td>\n",
       "      <td>09:30:24</td>\n",
       "      <td>9,95</td>\n",
       "    </tr>\n",
       "    <tr>\n",
       "      <th>2</th>\n",
       "      <td>IBEX MEDIUM CAP®</td>\n",
       "      <td>13.462,50</td>\n",
       "      <td>13.380,20</td>\n",
       "      <td>-0,61</td>\n",
       "      <td>13.380,20</td>\n",
       "      <td>13.330,60</td>\n",
       "      <td>01/10/2021</td>\n",
       "      <td>09:30:11</td>\n",
       "      <td>5,22</td>\n",
       "    </tr>\n",
       "    <tr>\n",
       "      <th>3</th>\n",
       "      <td>IBEX SMALL CAP®</td>\n",
       "      <td>8.252,70</td>\n",
       "      <td>8.204,50</td>\n",
       "      <td>-0,58</td>\n",
       "      <td>8.204,50</td>\n",
       "      <td>8.141,10</td>\n",
       "      <td>01/10/2021</td>\n",
       "      <td>09:30:22</td>\n",
       "      <td>1,31</td>\n",
       "    </tr>\n",
       "    <tr>\n",
       "      <th>4</th>\n",
       "      <td>IBEX 35® Bancos</td>\n",
       "      <td>505,00</td>\n",
       "      <td>494,60</td>\n",
       "      <td>-2,06</td>\n",
       "      <td>496,20</td>\n",
       "      <td>491,40</td>\n",
       "      <td>01/10/2021</td>\n",
       "      <td>09:30:23</td>\n",
       "      <td>31,51</td>\n",
       "    </tr>\n",
       "    <tr>\n",
       "      <th>...</th>\n",
       "      <td>...</td>\n",
       "      <td>...</td>\n",
       "      <td>...</td>\n",
       "      <td>...</td>\n",
       "      <td>...</td>\n",
       "      <td>...</td>\n",
       "      <td>...</td>\n",
       "      <td>...</td>\n",
       "      <td>...</td>\n",
       "    </tr>\n",
       "    <tr>\n",
       "      <th>73</th>\n",
       "      <td>Índice ITX Inverso X3</td>\n",
       "      <td>178,70</td>\n",
       "      <td>183,00</td>\n",
       "      <td>2,41</td>\n",
       "      <td>187,00</td>\n",
       "      <td>182,80</td>\n",
       "      <td>01/10/2021</td>\n",
       "      <td>09:30:15</td>\n",
       "      <td>-64,24</td>\n",
       "    </tr>\n",
       "    <tr>\n",
       "      <th>74</th>\n",
       "      <td>Índice TEF Inverso X5</td>\n",
       "      <td>13,30</td>\n",
       "      <td>14,10</td>\n",
       "      <td>6,02</td>\n",
       "      <td>14,20</td>\n",
       "      <td>13,50</td>\n",
       "      <td>01/10/2021</td>\n",
       "      <td>09:30:23</td>\n",
       "      <td>-90,51</td>\n",
       "    </tr>\n",
       "    <tr>\n",
       "      <th>75</th>\n",
       "      <td>Índice SAN Inverso X5</td>\n",
       "      <td>4.621,30</td>\n",
       "      <td>5.081,60</td>\n",
       "      <td>9,96</td>\n",
       "      <td>5.317,30</td>\n",
       "      <td>5.033,70</td>\n",
       "      <td>01/10/2021</td>\n",
       "      <td>09:30:23</td>\n",
       "      <td>542,50</td>\n",
       "    </tr>\n",
       "    <tr>\n",
       "      <th>76</th>\n",
       "      <td>Índice BBVA Inverso X5</td>\n",
       "      <td>9.005,70</td>\n",
       "      <td>10.045,70</td>\n",
       "      <td>11,55</td>\n",
       "      <td>10.305,70</td>\n",
       "      <td>9.793,70</td>\n",
       "      <td>01/10/2021</td>\n",
       "      <td>09:30:22</td>\n",
       "      <td>51,12</td>\n",
       "    </tr>\n",
       "    <tr>\n",
       "      <th>77</th>\n",
       "      <td>Índice ITX Inverso X5</td>\n",
       "      <td>955,90</td>\n",
       "      <td>994,20</td>\n",
       "      <td>4,01</td>\n",
       "      <td>1.030,20</td>\n",
       "      <td>992,70</td>\n",
       "      <td>01/10/2021</td>\n",
       "      <td>09:30:15</td>\n",
       "      <td>-85,91</td>\n",
       "    </tr>\n",
       "  </tbody>\n",
       "</table>\n",
       "<p>78 rows × 9 columns</p>\n",
       "</div>"
      ],
      "text/plain": [
       "                     Nombre   Anterior     Último % Dif.     Máximo  \\\n",
       "0                  IBEX 35®   8.796,30   8.706,70  -1,02   8.709,10   \n",
       "1   IBEX 35® con Dividendos  26.951,50  26.677,20  -1,02  26.684,50   \n",
       "2          IBEX MEDIUM CAP®  13.462,50  13.380,20  -0,61  13.380,20   \n",
       "3           IBEX SMALL CAP®   8.252,70   8.204,50  -0,58   8.204,50   \n",
       "4           IBEX 35® Bancos     505,00     494,60  -2,06     496,20   \n",
       "..                      ...        ...        ...    ...        ...   \n",
       "73    Índice ITX Inverso X3     178,70     183,00   2,41     187,00   \n",
       "74    Índice TEF Inverso X5      13,30      14,10   6,02      14,20   \n",
       "75    Índice SAN Inverso X5   4.621,30   5.081,60   9,96   5.317,30   \n",
       "76   Índice BBVA Inverso X5   9.005,70  10.045,70  11,55  10.305,70   \n",
       "77    Índice ITX Inverso X5     955,90     994,20   4,01   1.030,20   \n",
       "\n",
       "       Mínimo       Fecha      Hora % Dif.\\nAño 2021  \n",
       "0    8.654,80  01/10/2021  09:30:24             7,84  \n",
       "1   26.518,10  01/10/2021  09:30:24             9,95  \n",
       "2   13.330,60  01/10/2021  09:30:11             5,22  \n",
       "3    8.141,10  01/10/2021  09:30:22             1,31  \n",
       "4      491,40  01/10/2021  09:30:23            31,51  \n",
       "..        ...         ...       ...              ...  \n",
       "73     182,80  01/10/2021  09:30:15           -64,24  \n",
       "74      13,50  01/10/2021  09:30:23           -90,51  \n",
       "75   5.033,70  01/10/2021  09:30:23           542,50  \n",
       "76   9.793,70  01/10/2021  09:30:22            51,12  \n",
       "77     992,70  01/10/2021  09:30:15           -85,91  \n",
       "\n",
       "[78 rows x 9 columns]"
      ]
     },
     "execution_count": 13,
     "metadata": {},
     "output_type": "execute_result"
    }
   ],
   "source": [
    "df2"
   ]
  },
  {
   "cell_type": "code",
   "execution_count": 14,
   "metadata": {},
   "outputs": [],
   "source": [
    "df2.to_csv('Resumen_de_indices.csv')\n",
    "\n"
   ]
  },
  {
   "cell_type": "code",
   "execution_count": 15,
   "metadata": {},
   "outputs": [],
   "source": [
    "driver.quit()"
   ]
  },
  {
   "cell_type": "markdown",
   "metadata": {},
   "source": [
    "## Nivell 2\n",
    "### Exercici 2.\n",
    "Documenta en un word el teu conjunt de dades generat amb la informació que tenen els diferents arxius de Kaggle."
   ]
  },
  {
   "cell_type": "markdown",
   "metadata": {},
   "source": [
    "modifico el dataframe per separar  sector de sub sector  en columnes diferents i realitzo un pie plot amb  el % d'empresas per sector"
   ]
  },
  {
   "cell_type": "code",
   "execution_count": 33,
   "metadata": {},
   "outputs": [],
   "source": [
    "df[['Sector', 'Subsector']] = df['Sector - Subsector'].str.split('-\\s+',expand=True)"
   ]
  },
  {
   "cell_type": "code",
   "execution_count": 34,
   "metadata": {},
   "outputs": [],
   "source": [
    "df.drop('Sector - Subsector',axis=1,inplace=True)"
   ]
  },
  {
   "cell_type": "code",
   "execution_count": 35,
   "metadata": {},
   "outputs": [],
   "source": [
    "sector = df.groupby('Sector')['Sector'].agg(lambda x: x.value_counts()).reset_index(name='total')"
   ]
  },
  {
   "cell_type": "code",
   "execution_count": 36,
   "metadata": {},
   "outputs": [
    {
     "data": {
      "text/html": [
       "<div>\n",
       "<style scoped>\n",
       "    .dataframe tbody tr th:only-of-type {\n",
       "        vertical-align: middle;\n",
       "    }\n",
       "\n",
       "    .dataframe tbody tr th {\n",
       "        vertical-align: top;\n",
       "    }\n",
       "\n",
       "    .dataframe thead th {\n",
       "        text-align: right;\n",
       "    }\n",
       "</style>\n",
       "<table border=\"1\" class=\"dataframe\">\n",
       "  <thead>\n",
       "    <tr style=\"text-align: right;\">\n",
       "      <th></th>\n",
       "      <th>Sector</th>\n",
       "      <th>total</th>\n",
       "    </tr>\n",
       "  </thead>\n",
       "  <tbody>\n",
       "    <tr>\n",
       "      <th>0</th>\n",
       "      <td>Bienes de Consumo</td>\n",
       "      <td>2</td>\n",
       "    </tr>\n",
       "    <tr>\n",
       "      <th>1</th>\n",
       "      <td>Mat.Basicos, Industria y Construcción</td>\n",
       "      <td>10</td>\n",
       "    </tr>\n",
       "    <tr>\n",
       "      <th>2</th>\n",
       "      <td>Petróleo y Energía</td>\n",
       "      <td>1</td>\n",
       "    </tr>\n",
       "    <tr>\n",
       "      <th>3</th>\n",
       "      <td>Servicios Financieros</td>\n",
       "      <td>3</td>\n",
       "    </tr>\n",
       "    <tr>\n",
       "      <th>4</th>\n",
       "      <td>Servicios Inmobiliarios</td>\n",
       "      <td>3</td>\n",
       "    </tr>\n",
       "    <tr>\n",
       "      <th>5</th>\n",
       "      <td>Servicios de Consumo</td>\n",
       "      <td>3</td>\n",
       "    </tr>\n",
       "    <tr>\n",
       "      <th>6</th>\n",
       "      <td>Tecnología y Telecomunicaciones</td>\n",
       "      <td>3</td>\n",
       "    </tr>\n",
       "  </tbody>\n",
       "</table>\n",
       "</div>"
      ],
      "text/plain": [
       "                                   Sector  total\n",
       "0                      Bienes de Consumo       2\n",
       "1  Mat.Basicos, Industria y Construcción      10\n",
       "2                     Petróleo y Energía       1\n",
       "3                  Servicios Financieros       3\n",
       "4                Servicios Inmobiliarios       3\n",
       "5                   Servicios de Consumo       3\n",
       "6        Tecnología y Telecomunicaciones       3"
      ]
     },
     "execution_count": 36,
     "metadata": {},
     "output_type": "execute_result"
    }
   ],
   "source": [
    "sector"
   ]
  },
  {
   "cell_type": "code",
   "execution_count": 37,
   "metadata": {},
   "outputs": [],
   "source": [
    "colors = sns.color_palette('Spectral')"
   ]
  },
  {
   "cell_type": "code",
   "execution_count": 38,
   "metadata": {},
   "outputs": [
    {
     "data": {
      "image/png": "[encoded data removed]",
      "text/plain": [
       "<Figure size 576x432 with 1 Axes>"
      ]
     },
     "metadata": {},
     "output_type": "display_data"
    }
   ],
   "source": [
    "plt.figure(figsize=(8, 6))\n",
    "plt.pie(sector['total'], labels = sector['Sector'], colors = colors, autopct='%.0f%%')\n",
    "plt.show()"
   ]
  },
  {
   "cell_type": "markdown",
   "metadata": {},
   "source": [
    "## Nivell 3\n",
    "### Exercici 3\n",
    "Tria una página web que tu vulguis i realitza web scraping mitjançant la llibreria Scrapy. \n",
    "\n"
   ]
  },
  {
   "cell_type": "code",
   "execution_count": 1,
   "metadata": {},
   "outputs": [],
   "source": [
    "from scrapy.item import Field\n",
    "from scrapy.item import Item\n",
    "from scrapy.spiders import Spider\n",
    "from scrapy.selector import Selector\n",
    "from scrapy.loader import ItemLoader\n",
    "from scrapy.crawler import CrawlerRunner\n",
    "from scrapy.crawler import CrawlerProcess\n",
    "from crochet import setup, wait_for\n",
    "import os\n"
   ]
  },
  {
   "cell_type": "markdown",
   "metadata": {},
   "source": [
    "En l'exercici 3 he realitzat  una funció anomenada type_Autor_Song que pasat un autor i una cançó demanades al usuari\n",
    "retorni la lletra de la cançó,el album, el escritor i l'any de publicació.La informació s'extreu a partir de un crawler que realitza un webscraping a la pagina azlyrics.\n",
    "la meva primera idea es enmagatzemar la data extreta a un  objecte de la classe item, però al no utilitzar un projecte integrament per scrapy sino que es realitza dintre de un notebook hi han problemes de compatibilitat.\n",
    "En principi  si l'usuari entra els noms mal escrits hauria de  tornar-los a demanar però  jupyternotebook fa saltar un error de refactor si  fa corre dues vegades el programa per tant només es pot fer corre una vegada d'altre forma s'ha de reinciar el kernel.\n",
    "\n",
    " "
   ]
  },
  {
   "cell_type": "markdown",
   "metadata": {},
   "source": [
    "coses a millorar:\n",
    "no he trobat la forma en la qual un cop introduit correctament el nom i la cançó no passi per el exept  i faci print de  tornar a escriure de nou els dos camps "
   ]
  },
  {
   "cell_type": "code",
   "execution_count": 2,
   "metadata": {},
   "outputs": [],
   "source": [
    "setup()\n",
    "#@wait_for(10)\n",
    "def Type_Author_Song(author,song):\n",
    "    base_urls =['https://www.azlyrics.com/lyrics/{}/{}.html'.format(author.replace(\" \", \"\").lower(),song.replace(\" \", \"\").lower())]\n",
    "\n",
    "    class LyricssSpider(Spider):\n",
    "        name= 'MyOwnSpider'\n",
    "        user_agent = [\"Mozilla/5.0 (Windows NT 6.1; WOW64) AppleWebKit/537.1 (KHTML, like Gecko) Chrome/22.0.1207.1 Safari/537.1\"]\n",
    "        \n",
    "\n",
    "        start_urls = base_urls\n",
    "        def parse (self,response):\n",
    "            \n",
    "            sel = Selector(response)\n",
    "            author = sel.xpath('normalize-space(/html/body/div[2]/div/div[2]/div[10]/small)').extract()\n",
    "            title = sel.xpath('normalize-space(/html/body/div[2]/div/div[2]/b)').extract()\n",
    "            song = sel.xpath('normalize-space(/html/body/div[2]/div/div[2]/div[5])').extract()\n",
    "            album = sel.xpath('normalize-space(/html/body/div[2]/div/div[2]/div/div[1]/b)').extract()\n",
    "            \n",
    "            year = sel.xpath('//div[@class = \"songinalbum_title\"]/descendant::text()[3]').extract()\n",
    "                                              \n",
    "           \n",
    "            print(author)\n",
    "            print(title)\n",
    "            print(album)\n",
    "            print(year)\n",
    "            print(song)\n",
    "           \n",
    "      \n",
    "            \n",
    "\n",
    "    try:\n",
    "        \n",
    "        process = CrawlerProcess()\n",
    "        process.crawl(LyricssSpider)\n",
    "        process.start()\n",
    "\n",
    "    except:\n",
    "        \n",
    "        \n",
    "        print('type another request or type it correctly')\n",
    "        author = input('Type an author')\n",
    "        song = input('Type a song')\n",
    "        Type_Author_Song(author,song)\n",
    "        \n",
    "    \n",
    "    \n",
    "        \n",
    "        \n",
    "        \n",
    "\n"
   ]
  },
  {
   "cell_type": "code",
   "execution_count": null,
   "metadata": {},
   "outputs": [
    {
     "name": "stdout",
     "output_type": "stream",
     "text": [
      "Type an author(no aticles)nirvana\n",
      "Type a song the man who sold the world\n"
     ]
    },
    {
     "name": "stderr",
     "output_type": "stream",
     "text": [
      "2021-10-01 10:37:48 [scrapy.utils.log] INFO: Scrapy 2.5.0 started (bot: scrapybot)\n",
      "2021-10-01 10:37:48 [scrapy.utils.log] INFO: Versions: lxml 4.6.1.0, libxml2 2.9.10, cssselect 1.1.0, parsel 1.6.0, w3lib 1.22.0, Twisted 21.7.0, Python 3.8.5 (default, Sep  3 2020, 21:29:08) [MSC v.1916 64 bit (AMD64)], pyOpenSSL 19.1.0 (OpenSSL 1.1.1k  25 Mar 2021), cryptography 3.1.1, Platform Windows-10-10.0.19041-SP0\n",
      "2021-10-01 10:37:48 [scrapy.utils.log] DEBUG: Using reactor: twisted.internet.selectreactor.SelectReactor\n",
      "2021-10-01 10:37:48 [scrapy.crawler] INFO: Overridden settings:\n",
      "{}\n",
      "2021-10-01 10:37:48 [scrapy.extensions.telnet] INFO: Telnet Password: 9357d36996ae50ae\n",
      "2021-10-01 10:37:48 [scrapy.middleware] INFO: Enabled extensions:\n",
      "['scrapy.extensions.corestats.CoreStats',\n",
      " 'scrapy.extensions.telnet.TelnetConsole',\n",
      " 'scrapy.extensions.logstats.LogStats']\n",
      "2021-10-01 10:37:48 [scrapy.middleware] INFO: Enabled downloader middlewares:\n",
      "['scrapy.downloadermiddlewares.httpauth.HttpAuthMiddleware',\n",
      " 'scrapy.downloadermiddlewares.downloadtimeout.DownloadTimeoutMiddleware',\n",
      " 'scrapy.downloadermiddlewares.defaultheaders.DefaultHeadersMiddleware',\n",
      " 'scrapy.downloadermiddlewares.useragent.UserAgentMiddleware',\n",
      " 'scrapy.downloadermiddlewares.retry.RetryMiddleware',\n",
      " 'scrapy.downloadermiddlewares.redirect.MetaRefreshMiddleware',\n",
      " 'scrapy.downloadermiddlewares.httpcompression.HttpCompressionMiddleware',\n",
      " 'scrapy.downloadermiddlewares.redirect.RedirectMiddleware',\n",
      " 'scrapy.downloadermiddlewares.cookies.CookiesMiddleware',\n",
      " 'scrapy.downloadermiddlewares.httpproxy.HttpProxyMiddleware',\n",
      " 'scrapy.downloadermiddlewares.stats.DownloaderStats']\n",
      "2021-10-01 10:37:48 [scrapy.middleware] INFO: Enabled spider middlewares:\n",
      "['scrapy.spidermiddlewares.httperror.HttpErrorMiddleware',\n",
      " 'scrapy.spidermiddlewares.offsite.OffsiteMiddleware',\n",
      " 'scrapy.spidermiddlewares.referer.RefererMiddleware',\n",
      " 'scrapy.spidermiddlewares.urllength.UrlLengthMiddleware',\n",
      " 'scrapy.spidermiddlewares.depth.DepthMiddleware']\n",
      "2021-10-01 10:37:48 [scrapy.middleware] INFO: Enabled item pipelines:\n",
      "[]\n",
      "2021-10-01 10:37:48 [scrapy.core.engine] INFO: Spider opened\n",
      "2021-10-01 10:37:48 [scrapy.extensions.logstats] INFO: Crawled 0 pages (at 0 pages/min), scraped 0 items (at 0 items/min)\n",
      "2021-10-01 10:37:48 [scrapy.extensions.telnet] INFO: Telnet console listening on 127.0.0.1:6023\n"
     ]
    },
    {
     "name": "stdout",
     "output_type": "stream",
     "text": [
      "type another request or type it correctly\n"
     ]
    },
    {
     "name": "stderr",
     "output_type": "stream",
     "text": [
      "2021-10-01 10:37:49 [scrapy.core.engine] DEBUG: Crawled (200) <GET https://www.azlyrics.com/lyrics/nirvana/themanwhosoldtheworld.html> (referer: None)\n",
      "2021-10-01 10:37:49 [scrapy.core.engine] INFO: Closing spider (finished)\n",
      "2021-10-01 10:37:49 [scrapy.statscollectors] INFO: Dumping Scrapy stats:\n",
      "{'downloader/request_bytes': 332,\n",
      " 'downloader/request_count': 1,\n",
      " 'downloader/request_method_count/GET': 1,\n",
      " 'downloader/response_bytes': 6418,\n",
      " 'downloader/response_count': 1,\n",
      " 'downloader/response_status_count/200': 1,\n",
      " 'elapsed_time_seconds': 0.93839,\n",
      " 'finish_reason': 'finished',\n",
      " 'finish_time': datetime.datetime(2021, 10, 1, 8, 37, 49, 725944),\n",
      " 'httpcompression/response_bytes': 20386,\n",
      " 'httpcompression/response_count': 1,\n",
      " 'log_count/DEBUG': 1,\n",
      " 'log_count/INFO': 10,\n",
      " 'response_received_count': 1,\n",
      " 'scheduler/dequeued': 1,\n",
      " 'scheduler/dequeued/memory': 1,\n",
      " 'scheduler/enqueued': 1,\n",
      " 'scheduler/enqueued/memory': 1,\n",
      " 'start_time': datetime.datetime(2021, 10, 1, 8, 37, 48, 787554)}\n",
      "2021-10-01 10:37:49 [scrapy.core.engine] INFO: Spider closed (finished)\n"
     ]
    },
    {
     "name": "stdout",
     "output_type": "stream",
     "text": [
      "['Writer(s): David Bowie']\n",
      "['\"The Man Who Sold The World\"']\n",
      "['\"MTV Unplugged In New York\"']\n",
      "[' (1994)']\n",
      "[\"We passed upon the stairs We spoke of was and when Although I wasn't there He said I was his friend Which came as a surprise I spoke into his eyes I thought you died alone A long long time ago Oh no, not me We never lost control You're face to face With the man who sold the world I laughed and shook his hand And made my way back home I searched for foreign land For years and years I roamed I gazed a gazely stare We walked a million hills I must have died alone A long, long time ago Who knows? Not me I never lost control You're face to face With the man who sold the world Who knows? Not me We never lost control You're face to face With the man who sold the world\"]\n"
     ]
    }
   ],
   "source": [
    "author = input('Type an author(no aticles)')\n",
    "song = input('Type a song ')\n",
    "Type_Author_Song(author,song)\n"
   ]
  },
  {
   "cell_type": "code",
   "execution_count": null,
   "metadata": {},
   "outputs": [],
   "source": []
  }
 ],
 "metadata": {
  "kernelspec": {
   "display_name": "Python 3",
   "language": "python",
   "name": "python3"
  },
  "language_info": {
   "codemirror_mode": {
    "name": "ipython",
    "version": 3
   },
   "file_extension": ".py",
   "mimetype": "text/x-python",
   "name": "python",
   "nbconvert_exporter": "python",
   "pygments_lexer": "ipython3",
   "version": "3.8.5"
  }
 },
 "nbformat": 4,
 "nbformat_minor": 4
}
