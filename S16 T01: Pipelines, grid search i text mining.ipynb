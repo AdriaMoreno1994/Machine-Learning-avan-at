{
 "cells": [
  {
   "cell_type": "markdown",
   "metadata": {},
   "source": [
    "# Pipelines, grid search i text mining"
   ]
  },
  {
   "cell_type": "markdown",
   "metadata": {},
   "source": [
    "### Nivell 1\n",
    "#### Exercici 1\n",
    "Agafa el conjunt de dades que vulguis i realitza un pipeline i un gridsearch aplicant l'algorisme de Random Forest."
   ]
  },
  {
   "cell_type": "code",
   "execution_count": 137,
   "metadata": {},
   "outputs": [
    {
     "name": "stderr",
     "output_type": "stream",
     "text": [
      "[nltk_data] Downloading package punkt to\n",
      "[nltk_data]     C:\\Users\\adria\\AppData\\Roaming\\nltk_data...\n",
      "[nltk_data]   Package punkt is already up-to-date!\n",
      "[nltk_data] Downloading package stopwords to\n",
      "[nltk_data]     C:\\Users\\adria\\AppData\\Roaming\\nltk_data...\n",
      "[nltk_data]   Package stopwords is already up-to-date!\n",
      "[nltk_data] Downloading package vader_lexicon to\n",
      "[nltk_data]     C:\\Users\\adria\\AppData\\Roaming\\nltk_data...\n"
     ]
    }
   ],
   "source": [
    "import pandas as pd\n",
    "import numpy as np \n",
    "from sklearn.pipeline import Pipeline\n",
    "from sklearn.model_selection import train_test_split\n",
    "from sklearn.preprocessing import StandardScaler\n",
    "from sklearn.ensemble import RandomForestClassifier as RF\n",
    "from sklearn.model_selection import GridSearchCV\n",
    "from sklearn.preprocessing import LabelEncoder\n",
    "import seaborn as sns\n",
    "import matplotlib.pyplot as plt\n",
    "from sklearn.model_selection import train_test_split\n",
    "from sklearn.metrics import accuracy_score\n",
    "from sklearn.metrics import confusion_matrix\n",
    "import nltk\n",
    "nltk.download('punkt')\n",
    "nltk.download('stopwords')\n",
    "nltk.download('vader_lexicon')\n",
    "from nltk.tokenize import word_tokenize\n",
    "from nltk.probability import FreqDist\n",
    "from nltk.corpus import stopwords\n",
    "from nltk.stem import PorterStemmer\n",
    "from nltk.tokenize import sent_tokenize, word_tokenize\n",
    "from textblob import TextBlob\n",
    "from imblearn.over_sampling import SMOTE\n",
    "from imblearn.under_sampling import RandomUnderSampler\n",
    "from imblearn.pipeline import Pipeline as Pipmlear\n",
    "from wordcloud import WordCloud, STOPWORDS, ImageColorGenerator\n",
    "from nltk.sentiment.vader import SentimentIntensityAnalyzer\n"
   ]
  },
  {
   "cell_type": "code",
   "execution_count": 14,
   "metadata": {},
   "outputs": [],
   "source": [
    "test = pd.read_csv('tested.csv')\n",
    "train = pd.read_csv('train.csv')"
   ]
  },
  {
   "cell_type": "code",
   "execution_count": 15,
   "metadata": {},
   "outputs": [],
   "source": [
    "df = pd.concat([train,test],axis=0)"
   ]
  },
  {
   "cell_type": "markdown",
   "metadata": {},
   "source": [
    "**Explore the  dataset**"
   ]
  },
  {
   "cell_type": "code",
   "execution_count": 16,
   "metadata": {},
   "outputs": [
    {
     "data": {
      "text/html": [
       "<div>\n",
       "<style scoped>\n",
       "    .dataframe tbody tr th:only-of-type {\n",
       "        vertical-align: middle;\n",
       "    }\n",
       "\n",
       "    .dataframe tbody tr th {\n",
       "        vertical-align: top;\n",
       "    }\n",
       "\n",
       "    .dataframe thead th {\n",
       "        text-align: right;\n",
       "    }\n",
       "</style>\n",
       "<table border=\"1\" class=\"dataframe\">\n",
       "  <thead>\n",
       "    <tr style=\"text-align: right;\">\n",
       "      <th></th>\n",
       "      <th>PassengerId</th>\n",
       "      <th>Survived</th>\n",
       "      <th>Pclass</th>\n",
       "      <th>Name</th>\n",
       "      <th>Sex</th>\n",
       "      <th>Age</th>\n",
       "      <th>SibSp</th>\n",
       "      <th>Parch</th>\n",
       "      <th>Ticket</th>\n",
       "      <th>Fare</th>\n",
       "      <th>Cabin</th>\n",
       "      <th>Embarked</th>\n",
       "    </tr>\n",
       "  </thead>\n",
       "  <tbody>\n",
       "    <tr>\n",
       "      <th>0</th>\n",
       "      <td>1</td>\n",
       "      <td>0</td>\n",
       "      <td>3</td>\n",
       "      <td>Braund, Mr. Owen Harris</td>\n",
       "      <td>male</td>\n",
       "      <td>22.0</td>\n",
       "      <td>1</td>\n",
       "      <td>0</td>\n",
       "      <td>A/5 21171</td>\n",
       "      <td>7.2500</td>\n",
       "      <td>NaN</td>\n",
       "      <td>S</td>\n",
       "    </tr>\n",
       "    <tr>\n",
       "      <th>1</th>\n",
       "      <td>2</td>\n",
       "      <td>1</td>\n",
       "      <td>1</td>\n",
       "      <td>Cumings, Mrs. John Bradley (Florence Briggs Th...</td>\n",
       "      <td>female</td>\n",
       "      <td>38.0</td>\n",
       "      <td>1</td>\n",
       "      <td>0</td>\n",
       "      <td>PC 17599</td>\n",
       "      <td>71.2833</td>\n",
       "      <td>C85</td>\n",
       "      <td>C</td>\n",
       "    </tr>\n",
       "    <tr>\n",
       "      <th>2</th>\n",
       "      <td>3</td>\n",
       "      <td>1</td>\n",
       "      <td>3</td>\n",
       "      <td>Heikkinen, Miss. Laina</td>\n",
       "      <td>female</td>\n",
       "      <td>26.0</td>\n",
       "      <td>0</td>\n",
       "      <td>0</td>\n",
       "      <td>STON/O2. 3101282</td>\n",
       "      <td>7.9250</td>\n",
       "      <td>NaN</td>\n",
       "      <td>S</td>\n",
       "    </tr>\n",
       "    <tr>\n",
       "      <th>3</th>\n",
       "      <td>4</td>\n",
       "      <td>1</td>\n",
       "      <td>1</td>\n",
       "      <td>Futrelle, Mrs. Jacques Heath (Lily May Peel)</td>\n",
       "      <td>female</td>\n",
       "      <td>35.0</td>\n",
       "      <td>1</td>\n",
       "      <td>0</td>\n",
       "      <td>113803</td>\n",
       "      <td>53.1000</td>\n",
       "      <td>C123</td>\n",
       "      <td>S</td>\n",
       "    </tr>\n",
       "    <tr>\n",
       "      <th>4</th>\n",
       "      <td>5</td>\n",
       "      <td>0</td>\n",
       "      <td>3</td>\n",
       "      <td>Allen, Mr. William Henry</td>\n",
       "      <td>male</td>\n",
       "      <td>35.0</td>\n",
       "      <td>0</td>\n",
       "      <td>0</td>\n",
       "      <td>373450</td>\n",
       "      <td>8.0500</td>\n",
       "      <td>NaN</td>\n",
       "      <td>S</td>\n",
       "    </tr>\n",
       "  </tbody>\n",
       "</table>\n",
       "</div>"
      ],
      "text/plain": [
       "   PassengerId  Survived  Pclass  \\\n",
       "0            1         0       3   \n",
       "1            2         1       1   \n",
       "2            3         1       3   \n",
       "3            4         1       1   \n",
       "4            5         0       3   \n",
       "\n",
       "                                                Name     Sex   Age  SibSp  \\\n",
       "0                            Braund, Mr. Owen Harris    male  22.0      1   \n",
       "1  Cumings, Mrs. John Bradley (Florence Briggs Th...  female  38.0      1   \n",
       "2                             Heikkinen, Miss. Laina  female  26.0      0   \n",
       "3       Futrelle, Mrs. Jacques Heath (Lily May Peel)  female  35.0      1   \n",
       "4                           Allen, Mr. William Henry    male  35.0      0   \n",
       "\n",
       "   Parch            Ticket     Fare Cabin Embarked  \n",
       "0      0         A/5 21171   7.2500   NaN        S  \n",
       "1      0          PC 17599  71.2833   C85        C  \n",
       "2      0  STON/O2. 3101282   7.9250   NaN        S  \n",
       "3      0            113803  53.1000  C123        S  \n",
       "4      0            373450   8.0500   NaN        S  "
      ]
     },
     "execution_count": 16,
     "metadata": {},
     "output_type": "execute_result"
    }
   ],
   "source": [
    "df.head()"
   ]
  },
  {
   "cell_type": "code",
   "execution_count": 17,
   "metadata": {},
   "outputs": [
    {
     "data": {
      "text/plain": [
       "PassengerId       0\n",
       "Survived          0\n",
       "Pclass            0\n",
       "Name              0\n",
       "Sex               0\n",
       "Age             263\n",
       "SibSp             0\n",
       "Parch             0\n",
       "Ticket            0\n",
       "Fare              1\n",
       "Cabin          1014\n",
       "Embarked          2\n",
       "dtype: int64"
      ]
     },
     "execution_count": 17,
     "metadata": {},
     "output_type": "execute_result"
    }
   ],
   "source": [
    "df.isna().sum()"
   ]
  },
  {
   "cell_type": "code",
   "execution_count": 18,
   "metadata": {},
   "outputs": [
    {
     "data": {
      "text/plain": [
       "S    914\n",
       "C    270\n",
       "Q    123\n",
       "Name: Embarked, dtype: int64"
      ]
     },
     "execution_count": 18,
     "metadata": {},
     "output_type": "execute_result"
    }
   ],
   "source": [
    "df['Embarked'].value_counts()"
   ]
  },
  {
   "cell_type": "markdown",
   "metadata": {},
   "source": [
    "***Imputation of missing values***"
   ]
  },
  {
   "cell_type": "code",
   "execution_count": 19,
   "metadata": {},
   "outputs": [],
   "source": [
    "df['Embarked'].fillna('S',inplace=True)"
   ]
  },
  {
   "cell_type": "code",
   "execution_count": 20,
   "metadata": {},
   "outputs": [],
   "source": [
    "df['Fare'].fillna(df.Fare.mean(),inplace=True)"
   ]
  },
  {
   "cell_type": "code",
   "execution_count": 21,
   "metadata": {},
   "outputs": [],
   "source": [
    "df['Age'].fillna(df.Age.mean(),inplace=True)"
   ]
  },
  {
   "cell_type": "code",
   "execution_count": 22,
   "metadata": {},
   "outputs": [],
   "source": [
    "df.drop('Cabin',axis=1,inplace=True)"
   ]
  },
  {
   "cell_type": "markdown",
   "metadata": {},
   "source": [
    "**Featuring Engineering**"
   ]
  },
  {
   "cell_type": "code",
   "execution_count": 23,
   "metadata": {},
   "outputs": [
    {
     "data": {
      "text/plain": [
       "{'female': 1, 'male': 0}"
      ]
     },
     "execution_count": 23,
     "metadata": {},
     "output_type": "execute_result"
    }
   ],
   "source": [
    "gender = {'female':1,'male':0}\n",
    "gender"
   ]
  },
  {
   "cell_type": "code",
   "execution_count": 24,
   "metadata": {},
   "outputs": [],
   "source": [
    "df['Sex']=df['Sex'].map(gender)\n"
   ]
  },
  {
   "cell_type": "code",
   "execution_count": 25,
   "metadata": {},
   "outputs": [
    {
     "data": {
      "text/plain": [
       "0    843\n",
       "1    466\n",
       "Name: Sex, dtype: int64"
      ]
     },
     "execution_count": 25,
     "metadata": {},
     "output_type": "execute_result"
    }
   ],
   "source": [
    "df['Sex'].value_counts()"
   ]
  },
  {
   "cell_type": "code",
   "execution_count": 26,
   "metadata": {},
   "outputs": [],
   "source": [
    "le = LabelEncoder()\n",
    "df['Embarked']= le.fit_transform(df['Embarked'])"
   ]
  },
  {
   "cell_type": "code",
   "execution_count": 27,
   "metadata": {},
   "outputs": [
    {
     "data": {
      "text/plain": [
       "2    916\n",
       "0    270\n",
       "1    123\n",
       "Name: Embarked, dtype: int64"
      ]
     },
     "execution_count": 27,
     "metadata": {},
     "output_type": "execute_result"
    }
   ],
   "source": [
    "df['Embarked'].value_counts()"
   ]
  },
  {
   "cell_type": "code",
   "execution_count": 28,
   "metadata": {},
   "outputs": [],
   "source": [
    "df.drop(['Name','Ticket'],axis=1,inplace=True)"
   ]
  },
  {
   "cell_type": "code",
   "execution_count": 29,
   "metadata": {},
   "outputs": [
    {
     "data": {
      "text/html": [
       "<div>\n",
       "<style scoped>\n",
       "    .dataframe tbody tr th:only-of-type {\n",
       "        vertical-align: middle;\n",
       "    }\n",
       "\n",
       "    .dataframe tbody tr th {\n",
       "        vertical-align: top;\n",
       "    }\n",
       "\n",
       "    .dataframe thead th {\n",
       "        text-align: right;\n",
       "    }\n",
       "</style>\n",
       "<table border=\"1\" class=\"dataframe\">\n",
       "  <thead>\n",
       "    <tr style=\"text-align: right;\">\n",
       "      <th></th>\n",
       "      <th>PassengerId</th>\n",
       "      <th>Survived</th>\n",
       "      <th>Pclass</th>\n",
       "      <th>Sex</th>\n",
       "      <th>Age</th>\n",
       "      <th>SibSp</th>\n",
       "      <th>Parch</th>\n",
       "      <th>Fare</th>\n",
       "      <th>Embarked</th>\n",
       "    </tr>\n",
       "  </thead>\n",
       "  <tbody>\n",
       "    <tr>\n",
       "      <th>0</th>\n",
       "      <td>1</td>\n",
       "      <td>0</td>\n",
       "      <td>3</td>\n",
       "      <td>0</td>\n",
       "      <td>22.0</td>\n",
       "      <td>1</td>\n",
       "      <td>0</td>\n",
       "      <td>7.2500</td>\n",
       "      <td>2</td>\n",
       "    </tr>\n",
       "    <tr>\n",
       "      <th>1</th>\n",
       "      <td>2</td>\n",
       "      <td>1</td>\n",
       "      <td>1</td>\n",
       "      <td>1</td>\n",
       "      <td>38.0</td>\n",
       "      <td>1</td>\n",
       "      <td>0</td>\n",
       "      <td>71.2833</td>\n",
       "      <td>0</td>\n",
       "    </tr>\n",
       "    <tr>\n",
       "      <th>2</th>\n",
       "      <td>3</td>\n",
       "      <td>1</td>\n",
       "      <td>3</td>\n",
       "      <td>1</td>\n",
       "      <td>26.0</td>\n",
       "      <td>0</td>\n",
       "      <td>0</td>\n",
       "      <td>7.9250</td>\n",
       "      <td>2</td>\n",
       "    </tr>\n",
       "    <tr>\n",
       "      <th>3</th>\n",
       "      <td>4</td>\n",
       "      <td>1</td>\n",
       "      <td>1</td>\n",
       "      <td>1</td>\n",
       "      <td>35.0</td>\n",
       "      <td>1</td>\n",
       "      <td>0</td>\n",
       "      <td>53.1000</td>\n",
       "      <td>2</td>\n",
       "    </tr>\n",
       "    <tr>\n",
       "      <th>4</th>\n",
       "      <td>5</td>\n",
       "      <td>0</td>\n",
       "      <td>3</td>\n",
       "      <td>0</td>\n",
       "      <td>35.0</td>\n",
       "      <td>0</td>\n",
       "      <td>0</td>\n",
       "      <td>8.0500</td>\n",
       "      <td>2</td>\n",
       "    </tr>\n",
       "  </tbody>\n",
       "</table>\n",
       "</div>"
      ],
      "text/plain": [
       "   PassengerId  Survived  Pclass  Sex   Age  SibSp  Parch     Fare  Embarked\n",
       "0            1         0       3    0  22.0      1      0   7.2500         2\n",
       "1            2         1       1    1  38.0      1      0  71.2833         0\n",
       "2            3         1       3    1  26.0      0      0   7.9250         2\n",
       "3            4         1       1    1  35.0      1      0  53.1000         2\n",
       "4            5         0       3    0  35.0      0      0   8.0500         2"
      ]
     },
     "execution_count": 29,
     "metadata": {},
     "output_type": "execute_result"
    }
   ],
   "source": [
    "df.head()"
   ]
  },
  {
   "cell_type": "code",
   "execution_count": 30,
   "metadata": {},
   "outputs": [
    {
     "data": {
      "text/plain": [
       "<AxesSubplot:xlabel='Survived', ylabel='Count'>"
      ]
     },
     "execution_count": 30,
     "metadata": {},
     "output_type": "execute_result"
    },
    {
     "data": {
      "image/png": "[encoded data removed]",
      "text/plain": [
       "<Figure size 432x288 with 1 Axes>"
      ]
     },
     "metadata": {
      "needs_background": "light"
     },
     "output_type": "display_data"
    }
   ],
   "source": [
    "sns.histplot(df['Survived'])"
   ]
  },
  {
   "cell_type": "markdown",
   "metadata": {},
   "source": [
    " throught the independent variable  we can see that the dataset is unbalanced\n",
    "\n"
   ]
  },
  {
   "cell_type": "code",
   "execution_count": 31,
   "metadata": {},
   "outputs": [],
   "source": [
    "X = df.drop('Survived',axis=1)\n",
    "y = df['Survived']"
   ]
  },
  {
   "cell_type": "code",
   "execution_count": 32,
   "metadata": {},
   "outputs": [],
   "source": [
    "X_train, X_test, y_train, y_test = train_test_split(X,y,test_size=0.2,stratify=y)"
   ]
  },
  {
   "cell_type": "markdown",
   "metadata": {},
   "source": [
    "next step is construct a pipeline to group 3 process \n",
    "- threat the unbalanced data\n",
    "- standarize the data\n",
    "- implement  RandomForestClassification"
   ]
  },
  {
   "cell_type": "code",
   "execution_count": 90,
   "metadata": {},
   "outputs": [],
   "source": [
    "over = SMOTE()\n",
    "under = RandomUnderSampler()"
   ]
  },
  {
   "cell_type": "code",
   "execution_count": 91,
   "metadata": {},
   "outputs": [],
   "source": [
    "pipe = Pipmlear([('o', over),('under', under),('scaler',StandardScaler()),('Random_Forest',RF())])\n",
    "param_grid = { \n",
    "    'Random_Forest__n_estimators': [200, 500],\n",
    "    'Random_Forest__max_features': ['auto', 'sqrt', 'log2'],\n",
    "    'Random_Forest__max_depth' : [4,5,6,7,8],\n",
    "    'Random_Forest__criterion' :['gini', 'entropy']\n",
    "}\n",
    "                "
   ]
  },
  {
   "cell_type": "code",
   "execution_count": 92,
   "metadata": {},
   "outputs": [
    {
     "data": {
      "text/plain": [
       "['Random_Forest',\n",
       " 'Random_Forest__bootstrap',\n",
       " 'Random_Forest__ccp_alpha',\n",
       " 'Random_Forest__class_weight',\n",
       " 'Random_Forest__criterion',\n",
       " 'Random_Forest__max_depth',\n",
       " 'Random_Forest__max_features',\n",
       " 'Random_Forest__max_leaf_nodes',\n",
       " 'Random_Forest__max_samples',\n",
       " 'Random_Forest__min_impurity_decrease',\n",
       " 'Random_Forest__min_impurity_split',\n",
       " 'Random_Forest__min_samples_leaf',\n",
       " 'Random_Forest__min_samples_split',\n",
       " 'Random_Forest__min_weight_fraction_leaf',\n",
       " 'Random_Forest__n_estimators',\n",
       " 'Random_Forest__n_jobs',\n",
       " 'Random_Forest__oob_score',\n",
       " 'Random_Forest__random_state',\n",
       " 'Random_Forest__verbose',\n",
       " 'Random_Forest__warm_start',\n",
       " 'memory',\n",
       " 'o',\n",
       " 'o__k_neighbors',\n",
       " 'o__n_jobs',\n",
       " 'o__random_state',\n",
       " 'o__sampling_strategy',\n",
       " 'scaler',\n",
       " 'scaler__copy',\n",
       " 'scaler__with_mean',\n",
       " 'scaler__with_std',\n",
       " 'steps',\n",
       " 'under',\n",
       " 'under__random_state',\n",
       " 'under__replacement',\n",
       " 'under__sampling_strategy',\n",
       " 'verbose']"
      ]
     },
     "execution_count": 92,
     "metadata": {},
     "output_type": "execute_result"
    }
   ],
   "source": [
    "sorted(pipe.get_params().keys())"
   ]
  },
  {
   "cell_type": "code",
   "execution_count": 93,
   "metadata": {},
   "outputs": [
    {
     "data": {
      "text/plain": [
       "Pipeline(steps=[('o', SMOTE()), ('under', RandomUnderSampler()),\n",
       "                ('scaler', StandardScaler()),\n",
       "                ('Random_Forest', RandomForestClassifier())])"
      ]
     },
     "execution_count": 93,
     "metadata": {},
     "output_type": "execute_result"
    }
   ],
   "source": [
    "pipe.fit(X_train,y_train)"
   ]
  },
  {
   "cell_type": "markdown",
   "metadata": {},
   "source": [
    "after the fitting and before implement  GridSearch we can observe the metrics  of the pipeline implementation\n"
   ]
  },
  {
   "cell_type": "code",
   "execution_count": 98,
   "metadata": {},
   "outputs": [
    {
     "data": {
      "text/plain": [
       "0.8931297709923665"
      ]
     },
     "execution_count": 98,
     "metadata": {},
     "output_type": "execute_result"
    }
   ],
   "source": [
    "pipe.score(X_test, y_test)"
   ]
  },
  {
   "cell_type": "code",
   "execution_count": 99,
   "metadata": {},
   "outputs": [],
   "source": [
    "y_pipe_predict = pipe.predict(X_test)"
   ]
  },
  {
   "cell_type": "code",
   "execution_count": 100,
   "metadata": {},
   "outputs": [
    {
     "data": {
      "text/plain": [
       "0.8931297709923665"
      ]
     },
     "execution_count": 100,
     "metadata": {},
     "output_type": "execute_result"
    }
   ],
   "source": [
    "accuracy_score(y_test, y_pipe_predict)"
   ]
  },
  {
   "cell_type": "code",
   "execution_count": 101,
   "metadata": {},
   "outputs": [
    {
     "data": {
      "text/plain": [
       "array([[150,  13],\n",
       "       [ 15,  84]], dtype=int64)"
      ]
     },
     "execution_count": 101,
     "metadata": {},
     "output_type": "execute_result"
    }
   ],
   "source": [
    "confusion_matrix(y_test,y_pipe_predict)"
   ]
  },
  {
   "cell_type": "markdown",
   "metadata": {},
   "source": [
    "now  in order to find the best estimators of the model i will use GridSearchCV"
   ]
  },
  {
   "cell_type": "code",
   "execution_count": 102,
   "metadata": {},
   "outputs": [],
   "source": [
    "grid = GridSearchCV(pipe, param_grid=param_grid, cv=5)\n"
   ]
  },
  {
   "cell_type": "code",
   "execution_count": 103,
   "metadata": {},
   "outputs": [
    {
     "data": {
      "text/plain": [
       "GridSearchCV(cv=5,\n",
       "             estimator=Pipeline(steps=[('o', SMOTE()),\n",
       "                                       ('under', RandomUnderSampler()),\n",
       "                                       ('scaler', StandardScaler()),\n",
       "                                       ('Random_Forest',\n",
       "                                        RandomForestClassifier())]),\n",
       "             param_grid={'Random_Forest__criterion': ['gini', 'entropy'],\n",
       "                         'Random_Forest__max_depth': [4, 5, 6, 7, 8],\n",
       "                         'Random_Forest__max_features': ['auto', 'sqrt',\n",
       "                                                         'log2'],\n",
       "                         'Random_Forest__n_estimators': [200, 500]})"
      ]
     },
     "execution_count": 103,
     "metadata": {},
     "output_type": "execute_result"
    }
   ],
   "source": [
    "grid.fit(X_train,y_train)"
   ]
  },
  {
   "cell_type": "code",
   "execution_count": 104,
   "metadata": {},
   "outputs": [
    {
     "data": {
      "text/plain": [
       "{'Random_Forest__criterion': 'entropy',\n",
       " 'Random_Forest__max_depth': 7,\n",
       " 'Random_Forest__max_features': 'sqrt',\n",
       " 'Random_Forest__n_estimators': 500}"
      ]
     },
     "execution_count": 104,
     "metadata": {},
     "output_type": "execute_result"
    }
   ],
   "source": [
    "grid.best_params_"
   ]
  },
  {
   "cell_type": "code",
   "execution_count": 105,
   "metadata": {},
   "outputs": [
    {
     "name": "stdout",
     "output_type": "stream",
     "text": [
      "accuracy on train data:  0.9130850047755492\n",
      "accuracy on test data:  0.8740458015267175\n"
     ]
    }
   ],
   "source": [
    "best_grid = grid.best_estimator_\n",
    "best_grid.fit(X_train,y_train)\n",
    "\n",
    "predict_train = best_grid.predict(X_train)\n",
    "predict_test = best_grid.predict(X_test)\n",
    "\n",
    "\n",
    "print('accuracy on train data: ',accuracy_score(y_train, predict_train))\n",
    "print('accuracy on test data: ', accuracy_score(y_test, predict_test))"
   ]
  },
  {
   "cell_type": "code",
   "execution_count": 106,
   "metadata": {},
   "outputs": [
    {
     "data": {
      "text/plain": [
       "array([[148,  15],\n",
       "       [ 18,  81]], dtype=int64)"
      ]
     },
     "execution_count": 106,
     "metadata": {},
     "output_type": "execute_result"
    }
   ],
   "source": [
    "confusion_matrix(y_test,predict_test)"
   ]
  },
  {
   "cell_type": "markdown",
   "metadata": {},
   "source": [
    "## Exercici 2\n",
    "Agafa un text en anglès que vulguis, i calcula'n la freqüència de les paraules"
   ]
  },
  {
   "cell_type": "code",
   "execution_count": 111,
   "metadata": {},
   "outputs": [],
   "source": [
    "f = open('fragment_isla.txt','r')"
   ]
  },
  {
   "cell_type": "code",
   "execution_count": 112,
   "metadata": {},
   "outputs": [],
   "source": [
    "content = f.read()"
   ]
  },
  {
   "cell_type": "code",
   "execution_count": 113,
   "metadata": {},
   "outputs": [],
   "source": [
    "tokenizer = nltk.RegexpTokenizer(r\"\\w+\")\n",
    "tokenized_word=tokenizer.tokenize(content)"
   ]
  },
  {
   "cell_type": "code",
   "execution_count": 114,
   "metadata": {},
   "outputs": [
    {
     "name": "stdout",
     "output_type": "stream",
     "text": [
      "<FreqDist with 262 samples and 468 outcomes>\n"
     ]
    }
   ],
   "source": [
    "fdist = FreqDist(tokenized_word)\n",
    "print(fdist)"
   ]
  },
  {
   "cell_type": "code",
   "execution_count": 115,
   "metadata": {},
   "outputs": [
    {
     "data": {
      "text/plain": [
       "[('the', 28), ('was', 16), ('and', 15), ('he', 11), ('Attention', 10)]"
      ]
     },
     "execution_count": 115,
     "metadata": {},
     "output_type": "execute_result"
    }
   ],
   "source": [
    "fdist.most_common(5)"
   ]
  },
  {
   "cell_type": "markdown",
   "metadata": {},
   "source": [
    "## Nivell 2\n",
    "### Exercici 1\n",
    "Treu les stopwords i realitza stemming al teu conjunt de dades."
   ]
  },
  {
   "cell_type": "code",
   "execution_count": 116,
   "metadata": {},
   "outputs": [
    {
     "name": "stdout",
     "output_type": "stream",
     "text": [
      "{'aren', 'from', 'there', 'very', 'wasn', 'd', 'before', 'here', 'this', 'most', 'her', 'mightn', \"you've\", 'do', 'few', 'am', 'its', 'been', 'how', 'each', 'some', 'because', 'where', 'so', 'once', \"shouldn't\", 'all', 'their', \"weren't\", \"needn't\", 'below', 'had', 'is', 'm', 'now', 'ma', 'own', 'has', 'during', 'between', 'wouldn', 'hers', 'down', \"isn't\", \"aren't\", 'above', 'an', 'any', 'to', 'hadn', 'or', 've', 'in', 'when', 'up', 'weren', 'about', 'under', 're', 'with', 'hasn', \"doesn't\", 'again', \"wouldn't\", 'can', 'those', 'was', 'if', 'than', 'himself', 'which', 'didn', 'itself', \"don't\", \"wasn't\", 'who', 'won', 'needn', \"you'd\", 'll', \"won't\", 'o', \"you'll\", 'his', 'we', \"she's\", 'of', 'don', 'against', 'by', \"mustn't\", 'ours', 'he', 'yours', 'being', 'me', 'having', 'that', 'after', \"should've\", 'y', 'isn', 'too', 't', 'are', 'until', 'out', 'ain', \"mightn't\", 'shouldn', 'what', 'does', 'into', 'did', \"it's\", \"hasn't\", 'just', 'i', 'why', 'you', 'only', 'haven', 'doesn', 'your', 'over', 'themselves', 'at', 'have', \"hadn't\", 'theirs', 'and', 'no', 'other', 's', 'as', 'yourselves', \"haven't\", 'doing', 'my', 'these', 'yourself', \"shan't\", 'whom', 'such', 'same', 'she', 'will', 'mustn', 'were', 'they', 'herself', 'both', \"didn't\", 'then', 'through', 'more', 'him', 'further', 'them', 'ourselves', \"you're\", 'be', \"that'll\", 'for', 'on', 'myself', 'but', 'it', \"couldn't\", 'shan', 'while', 'off', 'not', 'a', 'the', 'nor', 'our', 'couldn', 'should'}\n"
     ]
    }
   ],
   "source": [
    "\n",
    "stop_words=set(stopwords.words(\"english\"))\n",
    "print(stop_words)"
   ]
  },
  {
   "cell_type": "code",
   "execution_count": 117,
   "metadata": {},
   "outputs": [
    {
     "name": "stdout",
     "output_type": "stream",
     "text": [
      "Filterd Sentence: ['Attention', 'voice', 'began', 'call', 'though', 'oboe', 'suddenly', 'become', 'articulate', 'Attention', 'repeated', 'high', 'nasal', 'monotone', 'Attention', 'Lying', 'like', 'corpse', 'dead', 'leaves', 'hair', 'matted', 'face', 'grotesquely', 'smudged', 'bruised', 'clothes', 'rags', 'muddy', 'Will', 'Farnaby', 'awoke', 'start', 'Molly', 'called', 'Time', 'get', 'Time', 'get', 'dressed', 'Mustn', 'late', 'office', 'Thank', 'darling', 'said', 'sat', 'A', 'sharp', 'pain', 'stabbed', 'right', 'knee', 'kinds', 'pain', 'back', 'arms', 'forehead', 'Attention', 'voice', 'insisted', 'without', 'slightest', 'change', 'tone', 'Leaning', 'one', 'elbow', 'Will', 'looked', 'saw', 'bewilderment', 'grey', 'wallpaper', 'yellow', 'curtains', 'London', 'bedroom', 'glade', 'among', 'trees', 'long', 'shadows', 'slanting', 'lights', 'early', 'morning', 'forest', 'Attention', 'Why', 'say', 'Attention', 'Attention', 'Attention', 'voice', 'insisted', 'strangely', 'senselessly', 'Molly', 'questioned', 'Molly', 'The', 'name', 'seemed', 'open', 'window', 'inside', 'head', 'Suddenly', 'horribly', 'familiar', 'sense', 'guilt', 'pit', 'stomach', 'smelt', 'formaldehyde', 'saw', 'small', 'brisk', 'nurse', 'hurrying', 'ahead', 'along', 'green', 'corridor', 'heard', 'dry', 'creaking', 'starched', 'clothes', 'Number', 'fifty', 'five', 'saying', 'halted', 'opened', 'white', 'door', 'He', 'entered', 'high', 'white', 'bed', 'Molly', 'Molly', 'bandages', 'covering', 'half', 'face', 'mouth', 'hanging', 'cavernously', 'open', 'Molly', 'called', 'Molly', 'His', 'voice', 'broken', 'crying', 'imploring', 'My', 'darling', 'There', 'answer', 'Through', 'gaping', 'mouth', 'quick', 'shallow', 'breaths', 'came', 'noisily', 'My', 'darling', 'darling', 'And', 'suddenly', 'hand', 'holding', 'came', 'life', 'moment', 'Then', 'still', 'It', 'said', 'Will', 'Once', 'fingers', 'stirred', 'Slowly', 'evidently', 'enormous', 'effort', 'closed', 'pressed', 'moment', 'relaxed', 'lifelessness', 'Attention', 'called', 'inhuman', 'voice', 'Attention', 'It', 'accident', 'hastened', 'assure', 'The', 'road', 'wet', 'car', 'skidded', 'across', 'white', 'line', 'It', 'one', 'things', 'happen', 'time', 'The', 'papers', 'full', 'reported', 'dozen', 'Mother', 'three', 'children', 'killed', 'head', 'crash', 'But', 'beside', 'point', 'The', 'point', 'asked', 'really', 'end', 'said', 'yes', 'point', 'less', 'hour', 'walked', 'last', 'shameful', 'interview', 'rain', 'Molly', 'ambulance', 'dying']\n"
     ]
    }
   ],
   "source": [
    "filtered_sent=[]\n",
    "for w in tokenized_word:\n",
    "    if w not in stop_words:\n",
    "        filtered_sent.append(w)\n",
    "\n",
    "print(\"Filterd Sentence:\",filtered_sent)"
   ]
  },
  {
   "cell_type": "code",
   "execution_count": 118,
   "metadata": {},
   "outputs": [
    {
     "name": "stdout",
     "output_type": "stream",
     "text": [
      "['attent', 'voic', 'began', 'call', 'though', 'obo', 'suddenli', 'becom', 'articul', 'attent', 'repeat', 'high', 'nasal', 'monoton', 'attent', 'ly', 'like', 'corps', 'dead', 'leav', 'hair', 'mat', 'face', 'grotesqu', 'smudg', 'bruis', 'cloth', 'rag', 'muddi', 'will', 'farnabi', 'awok', 'start', 'molli', 'call', 'time', 'get', 'time', 'get', 'dress', 'mustn', 'late', 'offic', 'thank', 'darl', 'said', 'sat', 'A', 'sharp', 'pain', 'stab', 'right', 'knee', 'kind', 'pain', 'back', 'arm', 'forehead', 'attent', 'voic', 'insist', 'without', 'slightest', 'chang', 'tone', 'lean', 'one', 'elbow', 'will', 'look', 'saw', 'bewilder', 'grey', 'wallpap', 'yellow', 'curtain', 'london', 'bedroom', 'glade', 'among', 'tree', 'long', 'shadow', 'slant', 'light', 'earli', 'morn', 'forest', 'attent', 'whi', 'say', 'attent', 'attent', 'attent', 'voic', 'insist', 'strang', 'senselessli', 'molli', 'question', 'molli', 'the', 'name', 'seem', 'open', 'window', 'insid', 'head', 'suddenli', 'horribl', 'familiar', 'sens', 'guilt', 'pit', 'stomach', 'smelt', 'formaldehyd', 'saw', 'small', 'brisk', 'nurs', 'hurri', 'ahead', 'along', 'green', 'corridor', 'heard', 'dri', 'creak', 'starch', 'cloth', 'number', 'fifti', 'five', 'say', 'halt', 'open', 'white', 'door', 'He', 'enter', 'high', 'white', 'bed', 'molli', 'molli', 'bandag', 'cover', 'half', 'face', 'mouth', 'hang', 'cavern', 'open', 'molli', 'call', 'molli', 'hi', 'voic', 'broken', 'cri', 'implor', 'My', 'darl', 'there', 'answer', 'through', 'gape', 'mouth', 'quick', 'shallow', 'breath', 'came', 'noisili', 'My', 'darl', 'darl', 'and', 'suddenli', 'hand', 'hold', 'came', 'life', 'moment', 'then', 'still', 'It', 'said', 'will', 'onc', 'finger', 'stir', 'slowli', 'evid', 'enorm', 'effort', 'close', 'press', 'moment', 'relax', 'lifeless', 'attent', 'call', 'inhuman', 'voic', 'attent', 'It', 'accid', 'hasten', 'assur', 'the', 'road', 'wet', 'car', 'skid', 'across', 'white', 'line', 'It', 'one', 'thing', 'happen', 'time', 'the', 'paper', 'full', 'report', 'dozen', 'mother', 'three', 'children', 'kill', 'head', 'crash', 'but', 'besid', 'point', 'the', 'point', 'ask', 'realli', 'end', 'said', 'ye', 'point', 'less', 'hour', 'walk', 'last', 'shame', 'interview', 'rain', 'molli', 'ambul', 'die']\n"
     ]
    }
   ],
   "source": [
    "ps = PorterStemmer()\n",
    "stemmed_text =[]\n",
    "for w in filtered_sent:\n",
    "    stemmed_text.append(ps.stem(w))\n",
    "print(stemmed_text)"
   ]
  },
  {
   "cell_type": "markdown",
   "metadata": {},
   "source": [
    "## Nivell 3\n",
    "### Exercici 1\n",
    "Realitza sentiment analysis al teu conjunt de dades."
   ]
  },
  {
   "cell_type": "code",
   "execution_count": 133,
   "metadata": {},
   "outputs": [],
   "source": [
    "word_string =' '.join(filtered_sent)"
   ]
  },
  {
   "cell_type": "code",
   "execution_count": 135,
   "metadata": {},
   "outputs": [
    {
     "data": {
      "text/plain": [
       "Sentiment(polarity=-0.04173745173745175, subjectivity=0.3666409266409266)"
      ]
     },
     "execution_count": 135,
     "metadata": {},
     "output_type": "execute_result"
    }
   ],
   "source": [
    "## using TextBlob\n",
    "book_sent = TextBlob(word_string)\n",
    "book_sent.sentiment"
   ]
  },
  {
   "cell_type": "code",
   "execution_count": 139,
   "metadata": {},
   "outputs": [
    {
     "data": {
      "text/plain": [
       "{'neg': 0.16, 'neu': 0.724, 'pos': 0.116, 'compound': -0.9396}"
      ]
     },
     "execution_count": 139,
     "metadata": {},
     "output_type": "execute_result"
    }
   ],
   "source": [
    "### using SentimentIntensityAnalyzer\n",
    "sid = SentimentIntensityAnalyzer()\n",
    "sid.polarity_scores(word_string)\n"
   ]
  },
  {
   "cell_type": "markdown",
   "metadata": {},
   "source": [
    "Due to the fact that the choosen text is just a fragment of the first chapter of the island ( Aldous Huxley )\n",
    "there's no explicit  sentimental  content therefore, the metrics are that  neutral"
   ]
  },
  {
   "cell_type": "markdown",
   "metadata": {},
   "source": [
    "***WordCloud***"
   ]
  },
  {
   "cell_type": "code",
   "execution_count": 132,
   "metadata": {},
   "outputs": [
    {
     "data": {
      "image/png": "[encoded data removed]",
      "text/plain": [
       "<Figure size 432x288 with 1 Axes>"
      ]
     },
     "metadata": {
      "needs_background": "light"
     },
     "output_type": "display_data"
    }
   ],
   "source": [
    "\n",
    "wordcloud = WordCloud().generate(word_string)\n",
    "\n",
    "\n",
    "plt.imshow(wordcloud, interpolation='bilinear')\n",
    "plt.axis(\"off\")\n",
    "plt.show()"
   ]
  },
  {
   "cell_type": "code",
   "execution_count": null,
   "metadata": {},
   "outputs": [],
   "source": []
  }
 ],
 "metadata": {
  "kernelspec": {
   "display_name": "Python 3",
   "language": "python",
   "name": "python3"
  },
  "language_info": {
   "codemirror_mode": {
    "name": "ipython",
    "version": 3
   },
   "file_extension": ".py",
   "mimetype": "text/x-python",
   "name": "python",
   "nbconvert_exporter": "python",
   "pygments_lexer": "ipython3",
   "version": "3.8.5"
  }
 },
 "nbformat": 4,
 "nbformat_minor": 4
}
